{
 "cells": [
  {
   "cell_type": "markdown",
   "id": "17beae7c",
   "metadata": {},
   "source": [
    "# Tanda de ejercicios\n",
    "\n",
    "---\n",
    "\n",
    "<ul>\n",
    "    <li><strong>Autor:</strong> Jesús Emmanuel Solís Pérez </li>\n",
    "    <li><strong>Contacto:</strong> <a href=\"mailto:jsolisp@unam.mx\">jsolisp@unam.mx</a>\n",
    "</ul>\n",
    "\n",
    "---\n",
    "\n",
    "# Ejercicio 1.\n",
    "Escriba los códigos para los métodos de **Búsqueda lineal** y **Región de confianza**. Pruébelos en la función\n",
    "\n",
    "\\begin{equation}\n",
    " f(x,y) = e^{x-1} + e^{1-y} + (x-y)^{2},\n",
    "\\end{equation}\n",
    "\n",
    "utilizando los siguientes puntos iniciales $x_{0} = \\begin{bmatrix} 2 & 3 \\end{bmatrix}^{T}$ y $x_{0} = \\begin{bmatrix} 3 & 2 \\end{bmatrix}^{T}$.\n",
    "\n",
    "# Ejercicio 2.\n",
    "Escriba los códigos para los métodos de **Búsqueda lineal** y **Región de confianza**. Pruébelos en la función\n",
    "\n",
    "\\begin{equation}\n",
    " f(x,y) = \\sin(x+y) + (x-y)^{2} - 1.5x + 2.5y + 1,\n",
    "\\end{equation}\n",
    "\n",
    "utilizando los siguientes puntos iniciales $x_{0} = \\begin{bmatrix} 2 & 3 \\end{bmatrix}^{T}$ y $x_{0} = \\begin{bmatrix} 3 & 2 \\end{bmatrix}^{T}$.\n",
    "\n",
    "# Ejercicio 3.\n",
    "\n",
    "Suppose that you have observation time data `xdata` and observed response data `ydata`, and you want to find parameters $x_{1}$ and $x_{2}$ to fit a model of the form\n",
    "\n",
    "\\begin{equation}\n",
    " ydata = x_{1}\\cdot\\exp\\left(x_{2}\\cdot xdata\\right).\n",
    "\\end{equation}\n",
    "\n",
    "Input the observation times and responses.\n",
    "\n",
    "`xdata = [0.9 1.5 13.8 19.8 24.1 28.2 35.2 60.3 74.6 81.3]`\n",
    "\n",
    "`ydata = [455.2 428.6 124.1 67.3 43.2 28.1 13.1 -0.4 -1.3 -1.5]`\n",
    "\n",
    "Find coefficients x that solve the problem\n",
    "\n",
    "\\begin{equation}\n",
    " \\underset{x}\\min \\| F(x,xdata) - ydata \\|^{2}_{2} = \\underset{x}\\min \\sum_{i} \\left(F(x,xdata_{i}) - ydata_{i} \\right)^{2}\n",
    "\\end{equation}"
   ]
  }
 ],
 "metadata": {
  "hide_input": false,
  "kernelspec": {
   "display_name": "Python 3 (ipykernel)",
   "language": "python",
   "name": "python3"
  },
  "language_info": {
   "codemirror_mode": {
    "name": "ipython",
    "version": 3
   },
   "file_extension": ".py",
   "mimetype": "text/x-python",
   "name": "python",
   "nbconvert_exporter": "python",
   "pygments_lexer": "ipython3",
   "version": "3.9.12"
  },
  "latex_envs": {
   "LaTeX_envs_menu_present": true,
   "autoclose": false,
   "autocomplete": true,
   "bibliofile": "biblio.bib",
   "cite_by": "apalike",
   "current_citInitial": 1,
   "eqLabelWithNumbers": true,
   "eqNumInitial": 1,
   "hotkeys": {
    "equation": "Ctrl-E",
    "itemize": "Ctrl-I"
   },
   "labels_anchors": false,
   "latex_user_defs": false,
   "report_style_numbering": false,
   "user_envs_cfg": false
  },
  "toc": {
   "base_numbering": 1,
   "nav_menu": {},
   "number_sections": true,
   "sideBar": true,
   "skip_h1_title": false,
   "title_cell": "Table of Contents",
   "title_sidebar": "Contents",
   "toc_cell": false,
   "toc_position": {},
   "toc_section_display": true,
   "toc_window_display": false
  },
  "varInspector": {
   "cols": {
    "lenName": 16,
    "lenType": 16,
    "lenVar": 40
   },
   "kernels_config": {
    "python": {
     "delete_cmd_postfix": "",
     "delete_cmd_prefix": "del ",
     "library": "var_list.py",
     "varRefreshCmd": "print(var_dic_list())"
    },
    "r": {
     "delete_cmd_postfix": ") ",
     "delete_cmd_prefix": "rm(",
     "library": "var_list.r",
     "varRefreshCmd": "cat(var_dic_list()) "
    }
   },
   "types_to_exclude": [
    "module",
    "function",
    "builtin_function_or_method",
    "instance",
    "_Feature"
   ],
   "window_display": false
  }
 },
 "nbformat": 4,
 "nbformat_minor": 5
}
