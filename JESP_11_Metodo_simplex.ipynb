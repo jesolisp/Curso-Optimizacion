{
 "cells": [
  {
   "cell_type": "markdown",
   "id": "3ef50266",
   "metadata": {},
   "source": [
    "# Método simplex\n",
    "\n",
    "---\n",
    "\n",
    "<ul>\n",
    "    <li><strong>Autor:</strong> Jesús Emmanuel Solís Pérez </li>\n",
    "    <li><strong>Contacto:</strong> <a href=\"mailto:jsolisp@unam.mx\">jsolisp@unam.mx</a>\n",
    "</ul>\n",
    "\n",
    "---\n",
    "\n",
    "# Propósito\n",
    "El objetivo de este cuaderno es mostrar los fundamentos matemáticos para el método de Gradiente Descendente.\n",
    "\n",
    "# Preliminares matemáticos\n",
    "\n",
    "Una notación general para minimizar funciones sujetas a condiciones en las variables está dada como sigue\n",
    "\n",
    "\\begin{equation}\n",
    " \\label{eqn:fcn_min}\n",
    " \\underset{x\\in \\mathbb{R}^{n}}{\\min} f(x),\n",
    "\\end{equation}\n",
    "\n",
    "s.a.\n",
    "\n",
    "\\begin{equation}\n",
    " \\begin{matrix}\n",
    "  c_{i}(x) = 0, & i \\in \\mathcal{E}, \\\\\n",
    "  c_{i}(x) \\geq 0, i \\in \\mathcal{I},\n",
    " \\end{matrix}\n",
    "\\end{equation}\n",
    "\n",
    "donde $f$ y las funciones $c_{i}$ son suaves, funciones de valor real en un subconjunto de $\\mathbb{R}^{n}$ e $\\mathcal{I}$, $\\mathcal{E}$ son dos conjuntos finitos de índices. Recordemos entonces que, llamamos $f$ a la función *objetivo* o función a minimizar mientras que $c_{i}, i\\in \\mathcal{E}$ son las *restricciones de igualdad* mientras que $c_{i},i\\in\\mathcal{I}$ son las *restricciones de desigualdad*.\n",
    "\n",
    "La función Lagrangiana para el problema dado en la Ec. \\eqref{eqn:fcn_min} está dado como sigue\n",
    "\n",
    "\\begin{equation}\n",
    " \\mathcal{L}(x,\\lambda) = f(x) - \\sum_{i\\in \\mathcal{E}\\cup\\mathcal{I}} \\lambda_{i}c_{i}(x).\n",
    "\\end{equation}\n",
    "\n",
    "Las siguientes condiciones están relacionadas con las propiedades de los gradientes -vectores de primeras derivadas- de la función objetivo y de las restricciones.\n",
    "\n",
    "## Condiciones de Karush–Kuhn–Tucker (KKT)\n",
    "\n",
    "**Definición 1.** *El conjunto activo $\\mathcal{A}(x)$ en cualquier $x$ factible consiste de los índices de las restricciones de igualdad de  $\\mathcal{E}$ junto con los índices de las restricciones de desigualdad $i$ para los cuales $c_{i}(x) = 0$ esto es\n",
    "\n",
    "\\begin{equation}\n",
    " \\label{eqn:def1}\n",
    " \\mathcal{A}(x) = \\mathcal{E}\\cup\\{i\\in \\mathcal{I} | c_{i}(x) = 0\\}.\n",
    "\\end{equation}\n",
    "\n",
    "\n",
    "**Definición 2.** *Dado el punto $x$ y un conjunto activo $\\mathcal{A}(x)$ definido en \\eqref{eqn:def1}, se dice que la calificación de la restricción de independencia lineal (LICQ) se cumple si el conjunto de gradientes de restricciones $\\{ \\nabla c_{i}(x)$, $i\\in \\mathcal{A}(x)\\}$ es linealmente independiente.*\n",
    "\n",
    "**Teorema 1.** *Suponga que $x^{\\star}$ es una solución local de \\eqref{eqn:fcn_min}, las funciones $f$ y $c_{i}$ en \\eqref{eqn:fcn_min} son continuamente diferenciable, y que LICQ mantiene en $x^{\\star}$. Entonces existe un vector multiplicador de Lagrange $\\lambda^{\\star}$, con componentes $\\lambda^{\\star}_{i}$, $i\\in\\mathcal{E}\\cup\\mathcal{I}$ tal que las siguientes condiciones se satisfacen en $(x^{\\star},\\lambda^{\\star})$*\n",
    "\n",
    "\\begin{equation}\n",
    " \\label{eqn:cond1}\n",
    " \\nabla_{x}\\mathcal{L}(x^{\\star},\\lambda^{\\star}) = 0,\n",
    "\\end{equation}\n",
    "\n",
    "\\begin{equation}\n",
    " c_{i}(x^{\\star}) = 0, \\quad \\forall i\\in \\mathcal{E},\n",
    "\\end{equation}\n",
    "\n",
    "\\begin{equation}\n",
    " c_{i}(x^{\\star}) \\geq 0, \\quad \\forall i\\in \\mathcal{I},\n",
    "\\end{equation}\n",
    "\n",
    "\\begin{equation}\n",
    " \\lambda_{i}^{\\star} \\geq 0, \\quad \\forall i\\in \\mathcal{I},\n",
    "\\end{equation}\n",
    "\n",
    "\\begin{equation}\n",
    " \\label{eqn:cond5}\n",
    " \\lambda_{i}^{\\star}c_{i}(x^{\\star}) = 0, \\quad \\forall i\\in \\mathcal{E}.\n",
    "\\end{equation}\n",
    "\n",
    "**Definición 3.** *Una base $\\mathcal{B}$ se dice degenerada si $x_{i}=0$ para cualquier $i\\in \\mathcal{B}$, donde $x$ es la solución factible base correspondiente a $\\mathcal{B}$. Un programa lineal se dice ser degenerado si este tiene al menos una base degenerada.*\n",
    "\n",
    "De $\\mathcal{B}$ y las Ecs. \\eqref{eqn:cond1}-\\eqref{eqn:cond5}, podemos derivar valores tanto para la variable primaria $x$ como para las variables $(\\lambda,s)$. Primero, se define un conjunt de índices no básicos $\\mathcal{N}$ como el complemento de $\\mathcal{B}$, es decir\n",
    "\n",
    "\\begin{equation}\n",
    " \\mathcal{N} = \\{1,2,3,\\dots,n\\}\\diagdown \\mathcal{B}.\n",
    "\\end{equation}\n",
    "\n",
    "**Observación.** \\mathcal{B} es una matriz base cuyas columnas son $A_{i}$ para $i\\in \\mathcal{B}$. Para denotar una matriz no base $N=[A_{i}]_{i\\in\\mathcal{N}}$ la denotamos como $N$.\n",
    "\n",
    "Realizando una división de los vectores de $n$ elementos $x$, $s$ y $c$ de acuerdo con los conjuntos de índices $\\mathcal{B}$ y $\\mathcal{N}$, se utiliza la siguiente notación\n",
    "\n",
    "\\begin{equation}\n",
    " x_{B} = [x_{i}]_{i\\in\\mathcal{B}}, \\quad x_{N} = [x_{i}]_{i\\in\\mathcal{N}},\n",
    "\\end{equation}\n",
    "\n",
    "\\begin{equation}\n",
    " s_{B} = [s_{i}]_{i\\in\\mathcal{B}}, \\quad s_{N} = [s_{i}]_{i\\in\\mathcal{N}},\n",
    "\\end{equation}\n",
    "\n",
    "\\begin{equation}\n",
    " c_{B} = [c_{i}]_{i\\in\\mathcal{B}}, \\quad c_{N} = [c_{i}]_{i\\in\\mathcal{N}}.\n",
    "\\end{equation}\n",
    "\n",
    "De las condiciones de KKT \\eqref{eqn:cond1}-\\eqref{eqn:cond5}, tenemos\n",
    "\n",
    "\\begin{equation}\n",
    " Ax = B_{x_{B}} + N_{x_{N}} = b.\n",
    "\\end{equation}\n",
    "\n",
    "Por consiguiente, la variable primaria $x$ para la iteración simplex está definida como\n",
    "\n",
    "\\begin{equation}\n",
    " x_{B} = B^{-1}b, \\quad x_{N} = 0,\n",
    "\\end{equation}\n",
    "\n",
    "donde $B$ es no singular y $x_{B}\\geq0$.\n",
    "\n",
    "Considerando $s_{B} = 0$, los componentes $\\lambda$ y $s_{N}$ se pueden encontrar particionando en componentes $c_{B}$ y $c_{N}$ para obtener\n",
    "\n",
    "\\begin{equation}\n",
    " B^{T}\\lambda = c_{B}, \\quad N^{T}\\lambda + s_{N} = c_{N}.\n",
    "\\end{equation}\n",
    "\n",
    "Por lo tanto, $\\lambda$ se define como\n",
    "\n",
    "\\begin{equation}\n",
    " \\lambda = B^{-T}c_{B},\n",
    "\\end{equation}\n",
    "\n",
    "y por consiguiente \n",
    "\n",
    "\\begin{equation}\n",
    " s_{N} = c_{N} - N^{T}\\lambda = c_{N} - \\left( B^{-1}N \\right)^{T}c_{B},\n",
    "\\end{equation}\n",
    "\n",
    "donde el cálculo del vector $s_{N}$ se define como *valoración* y los componentes $s_{N}$ como *costos reducidos* de la variable no base $x_{N}$.\n",
    "\n",
    "Dado la nueva iteración $x^{+}$ y el índice de iteración actual $x$, se debe satisfacer $Ax = b$ dado que $x_{N} = 0$ y $x_{i}^{+} = 0$ para $i\\in \\mathcal{N}\\diagdown\\{q\\}$ se tiene\n",
    "\n",
    "\\begin{equation}\n",
    " \\label{eqn:Axplus}\n",
    " Ax^{+} = Bx_{B}^{+} + A_{q}x_{q}^{+} = Bx_{B} = Ax.\n",
    "\\end{equation}\n",
    "\n",
    "Multiplicando la Ec. \\eqref{eqn:Axplus} por $B^{-1}$ se tiene\n",
    "\n",
    "\\begin{equation}\n",
    " x_{B}^{+} = x_{B} - B^{-1}A_{q}x_{q}^{+}.\n",
    "\\end{equation}\n",
    "\n",
    "Finalmente, el método simplex está dado por el siguiente algoritmo.\n",
    "\n",
    "## Simplex Method (SM)\n",
    "\n",
    "![alg_sim_os.png](../figures/alg_sim_os.png)\n",
    "\n",
    "## Ejemplo 1\n",
    "Considere el siguiente problema de optimización\n",
    "\n",
    "\\begin{equation}\n",
    " \\min -4x_{1} - 2x_{2},\n",
    "\\end{equation}\n",
    "\n",
    "s.a.\n",
    "\n",
    "\\begin{equation}\n",
    " \\begin{aligned}\n",
    "  x_{1} + x_{2} + x_{3} &= 5, \\\\\n",
    "  2x_{1} + \\frac{1}{2}x_{2} + x_{4} &= 8, \\\\\n",
    "  x &\\geq 0.\n",
    " \\end{aligned}\n",
    "\\end{equation}\n",
    "\n",
    "Además, suponga que se inicia con la base $\\mathcal{B} = \\{ 3,4\\}$."
   ]
  },
  {
   "cell_type": "markdown",
   "id": "bfbb575f",
   "metadata": {},
   "source": [
    "\n",
    "# Setup\n",
    "\n",
    "## Library import\n",
    "We import all the required Python libraries"
   ]
  },
  {
   "cell_type": "code",
   "execution_count": null,
   "id": "b02ee9e0",
   "metadata": {
    "ExecuteTime": {
     "end_time": "2022-10-09T03:49:01.439766Z",
     "start_time": "2022-10-09T03:49:00.079411Z"
    }
   },
   "outputs": [],
   "source": [
    "# Data manipulation\n",
    "import numpy as np\n",
    "\n",
    "# Visualizations\n",
    "import matplotlib.pyplot as plt\n",
    "from matplotlib import cm\n",
    "plt.rcParams['figure.figsize'] = [12, 8]\n",
    "plt.rcParams['figure.dpi'] = 100\n",
    "plt.rcParams['text.usetex'] = True\n",
    "plt.rcParams[\"font.family\"] = \"serif\"\n",
    "plt.rc('axes', titlesize=20)        # Controls Axes Title\n",
    "plt.rc('axes', labelsize=20)        # Controls Axes Labels\n",
    "plt.rc('xtick', labelsize=20)       # Controls x Tick Labels\n",
    "plt.rc('ytick', labelsize=20)       # Controls y Tick Labels\n",
    "plt.rc('legend', fontsize=15)       # Controls Legend Font\n",
    "plt.rc('figure', titlesize=15)      # Controls Figure Title\n",
    "%matplotlib inline\n",
    "\n",
    "# Autoreload extension\n",
    "if 'autoreload' not in get_ipython().extension_manager.loaded:\n",
    "    %load_ext autoreload\n",
    "    \n",
    "%autoreload 2"
   ]
  },
  {
   "cell_type": "markdown",
   "id": "85fa59b1",
   "metadata": {},
   "source": [
    "# Definición de funciones\n",
    "Definimos todas las funciones que comprenden el método Quasi-Newton."
   ]
  },
  {
   "cell_type": "code",
   "execution_count": null,
   "id": "fd6ba9db",
   "metadata": {
    "ExecuteTime": {
     "end_time": "2022-10-09T03:49:01.468974Z",
     "start_time": "2022-10-09T03:49:01.444223Z"
    }
   },
   "outputs": [],
   "source": [
    "def gradient_descent(x0, f, gradF, eta = 1e-3, tol = 1e-4):\n",
    "    \"\"\"\n",
    "    Parámetros\n",
    "    ----------\n",
    "    x0 : TYPE\n",
    "        Punto inicial.\n",
    "    F : TYPE\n",
    "        Función a minimizar.\n",
    "    gradF : TYPE\n",
    "        Gradiente de la función.\n",
    "    eta: \n",
    "        Paso propuesto.\n",
    "    tol : TYPE, optional\n",
    "        Tolerancia del algoritmo. The default is 1e-4.\n",
    "\n",
    "    Returns\n",
    "    -------\n",
    "    F(x):\n",
    "        Función evaluada en el valor mínimo X0.\n",
    "    Xit:\n",
    "      Vector de trayectorias de X..\n",
    "    \"\"\"\n",
    "    \n",
    "    x = x0\n",
    "    xx = [x]\n",
    "    \n",
    "    while (np.linalg.norm(gradF(x))>tol):\n",
    "        x = x - eta*gradF(x)\n",
    "        xx.append(x)\n",
    "        \n",
    "    return F(x), np.asarray(xx)"
   ]
  },
  {
   "cell_type": "markdown",
   "id": "17bb1bf5",
   "metadata": {},
   "source": [
    "# Caso I. Función de dos variables\n",
    "\n",
    "Sea la función\n",
    "\n",
    "\\begin{equation}\n",
    "  f\\left(x_{1},x_{2}\\right) = \\left(x_{1} - 2\\right)^{4} + x_{2}^{2}\\left(x_{1} - 2\\right)^{2} + \\left(x_{2} + 1\\right)^{2},\n",
    "\\end{equation}\n",
    "\n",
    "encuentre los valores mínimos utilizando el método de Quasi-Newton."
   ]
  },
  {
   "cell_type": "code",
   "execution_count": null,
   "id": "fb716b56",
   "metadata": {
    "ExecuteTime": {
     "end_time": "2022-10-09T03:49:01.512005Z",
     "start_time": "2022-10-09T03:49:01.475967Z"
    }
   },
   "outputs": [],
   "source": [
    "x0 = np.array([7,8]) # Puntos iniciales\n",
    "\n",
    "tol = 1e-2 # Tolerancia del algoritmo\n",
    "eta = 1e-2\n",
    "\n",
    "F = lambda x: (x[0] - 2)**4 + x[1]**2*(x[0] - 2)**2 + (x[1] + 1)**2\n",
    "gradF = lambda x: np.array([4*(x[0] - 2)**3 + x[1]**2*(2*x[0] - 4),2*x[1] + 2*x[1]*(x[0] - 2)**2 + 2])\n",
    "\n",
    "Fmin, xk = gradient_descent(x0, F, gradF, eta, tol)"
   ]
  },
  {
   "cell_type": "markdown",
   "id": "0a80fc8d",
   "metadata": {},
   "source": [
    "## Graficación de resultados"
   ]
  },
  {
   "cell_type": "code",
   "execution_count": null,
   "id": "e0d591c7",
   "metadata": {
    "ExecuteTime": {
     "end_time": "2022-10-09T03:49:01.542065Z",
     "start_time": "2022-10-09T03:49:01.515733Z"
    }
   },
   "outputs": [],
   "source": [
    "xmin = -10 # coordenada mínima\n",
    "xmax =  10 # coordenada máxima\n",
    "dx = 0.5 # distancia entre coordenadas consecutivas\n",
    "\n",
    "dom = np.arange(xmin,xmax,dx)\n",
    "X,Y = np.meshgrid(dom,dom)\n",
    "F = lambda x1,x2: (x1 - 2)**4 + x2**2*(x1 - 2)**2 + (x2 + 1)**2"
   ]
  },
  {
   "cell_type": "code",
   "execution_count": null,
   "id": "2af4df54",
   "metadata": {
    "ExecuteTime": {
     "end_time": "2022-10-09T03:49:02.400924Z",
     "start_time": "2022-10-09T03:49:01.547160Z"
    }
   },
   "outputs": [],
   "source": [
    "fig, ax = plt.subplots(subplot_kw={\"projection\": \"3d\"}, figsize=(15,10))\n",
    "surf = ax.plot_surface(X, Y, F(X,Y), cmap=cm.viridis,linewidth=0, antialiased=False)\n",
    "plt.title('Función 3D + Curvas de nivel')\n",
    "plt.show()"
   ]
  },
  {
   "cell_type": "code",
   "execution_count": null,
   "id": "332d6ad6",
   "metadata": {
    "ExecuteTime": {
     "end_time": "2022-10-09T03:49:03.413632Z",
     "start_time": "2022-10-09T03:49:02.406730Z"
    }
   },
   "outputs": [],
   "source": [
    "plt.figure(figsize=(15,10))\n",
    "contours = plt.contour(X, Y, F(X,Y), 10)\n",
    "plt.clabel(contours, inline=True, fontsize=8)\n",
    "plt.colorbar()\n",
    "plt.plot(xk[:,0], xk[:,1],'o--k')\n",
    "plt.title('Curvas de nivel')\n",
    "plt.show()"
   ]
  },
  {
   "cell_type": "code",
   "execution_count": null,
   "id": "bc1192ac",
   "metadata": {
    "ExecuteTime": {
     "end_time": "2022-10-09T03:49:04.485925Z",
     "start_time": "2022-10-09T03:49:03.418437Z"
    }
   },
   "outputs": [],
   "source": [
    "plt.figure(figsize=(15,10))\n",
    "gradx,grady = np.gradient(F(X,Y),dx)\n",
    "contours = plt.contourf(X,Y,F(X,Y), 10)\n",
    "plt.clabel(contours, inline=True, fontsize=8)\n",
    "plt.colorbar()\n",
    "plt.plot(xk[:,0], xk[:,1],'o--w')\n",
    "plt.quiver(X,Y,gradx,grady, color = 'red')\n",
    "plt.title('Curvas de nivel + Campo vectorial')\n",
    "plt.show()"
   ]
  },
  {
   "cell_type": "code",
   "execution_count": null,
   "id": "8f3f3257",
   "metadata": {
    "ExecuteTime": {
     "end_time": "2022-10-09T03:49:05.301079Z",
     "start_time": "2022-10-09T03:49:04.500036Z"
    }
   },
   "outputs": [],
   "source": [
    "x1 = np.linspace(min(xk[:,0]-0.5),max(xk[:,0]+0.5),30)\n",
    "x2 = np.linspace(min(xk[:,1]-0.5),max(xk[:,1]+0.5),30)\n",
    "X1,X2 = np.meshgrid(x1,x2)\n",
    "Z = F(X1,X2)\n",
    "\n",
    "plt.figure(figsize=(15,10))\n",
    "plt.title('Óptimo en: '+str(xk[-1,:])+'\\n en '+str(len(xk))+' iteraciones')\n",
    "plt.contourf(X1,X2,Z,30,cmap='jet')\n",
    "plt.colorbar()\n",
    "plt.plot(xk[:,0],xk[:,1],'o--w')\n",
    "plt.xlabel('$x_1$'); plt.ylabel('$x_2$')\n",
    "plt.show()"
   ]
  },
  {
   "cell_type": "code",
   "execution_count": null,
   "id": "1e332c5a",
   "metadata": {
    "ExecuteTime": {
     "end_time": "2022-10-09T03:49:06.062802Z",
     "start_time": "2022-10-09T03:49:05.316812Z"
    }
   },
   "outputs": [],
   "source": [
    "iterations = np.arange(0,len(xk))\n",
    "\n",
    "fig, axs = plt.subplots(2, figsize = (15,10))\n",
    "fig.suptitle('Puntos')\n",
    "axs[0].plot(iterations,xk[:,0],'o-b', label = '$x_{1_{min}} =$'+str(xk[-1,0]))\n",
    "# axs[0].plot(iterations,xk[:,0],'o-b', label = '$x_{1_{min}} =$')\n",
    "axs[0].grid('on')\n",
    "axs[0].set_ylabel('$x_{1}$')\n",
    "axs[0].legend()\n",
    "\n",
    "axs[1].plot(iterations,xk[:,1],'o-b', label = '$x_{2_{min}} =$'+str(xk[-1,1]))\n",
    "# axs[1].plot(iterations,xk[:,1],'o-b', label = '$x_{2_{min}} =$')\n",
    "axs[1].grid('on')\n",
    "axs[1].set_ylabel('$x_{2}$')\n",
    "axs[1].set_xlabel('Iteraciones')\n",
    "axs[1].legend()\n",
    "plt.show()"
   ]
  },
  {
   "cell_type": "markdown",
   "id": "f3a3e390",
   "metadata": {},
   "source": [
    "# Caso II. Función Booth\n",
    "La función Booth está definida por\n",
    "\n",
    "\\begin{equation}\n",
    " f\\left(x_{1} , x_{2}\\right) = \\left(x_{1} + 2x_{2} − 7\\right)^{2} + \\left(2x_{1} + x_{2} − 5\\right)^{2}.\n",
    "\\end{equation}\n",
    "\n",
    "Utilice el método de Quasi-Newton para minimizar la función de Booth considerando que el espacio de búsqueda está dado por $x_{i} \\in [-10,10] \\forall i=1,2$. Además, considere como punto inicial\n",
    "\n",
    "\\begin{equation}\n",
    " x_{0} = \\begin{bmatrix} 10 & 0 \\end{bmatrix}^{T}.\n",
    "\\end{equation}"
   ]
  },
  {
   "cell_type": "code",
   "execution_count": null,
   "id": "85ac7cc0",
   "metadata": {
    "ExecuteTime": {
     "end_time": "2022-10-09T03:49:06.120040Z",
     "start_time": "2022-10-09T03:49:06.068742Z"
    }
   },
   "outputs": [],
   "source": [
    "x0 = np.array([10,0]) # Puntos iniciales\n",
    "\n",
    "tol = 1e-2 # Tolerancia del algoritmo\n",
    "eta = 1e-2\n",
    "    \n",
    "# Función objetivo\n",
    "F = lambda x: np.power((x[0] + 2*x[1] - 7),2) + np.power((2*x[0] + x[1] - 5),2)\n",
    "gradF = lambda x: np.array([8*x[1] + 10*x[0] - 34,10*x[1] + 8*x[0] - 38])\n",
    "\n",
    "Fmin, xk = gradient_descent(x0, F, gradF, eta, tol)"
   ]
  },
  {
   "cell_type": "markdown",
   "id": "d86b11f3",
   "metadata": {},
   "source": [
    "## Graficación de resultados"
   ]
  },
  {
   "cell_type": "code",
   "execution_count": null,
   "id": "6dbe789f",
   "metadata": {
    "ExecuteTime": {
     "end_time": "2022-10-09T03:49:06.150270Z",
     "start_time": "2022-10-09T03:49:06.124782Z"
    }
   },
   "outputs": [],
   "source": [
    "xmin = -10 # coordenada mínima\n",
    "xmax =  10 # coordenada máxima\n",
    "dx = 0.5 # distancia entre coordenadas consecutivas\n",
    "\n",
    "dom = np.arange(xmin,xmax,dx)\n",
    "X,Y = np.meshgrid(dom,dom)\n",
    "F = lambda x1,x2:  (x1 + 2*x2 - 7)**2 + (2*x1 + x2 - 5)**2"
   ]
  },
  {
   "cell_type": "code",
   "execution_count": null,
   "id": "1c310560",
   "metadata": {
    "ExecuteTime": {
     "end_time": "2022-10-09T03:49:06.922729Z",
     "start_time": "2022-10-09T03:49:06.155285Z"
    }
   },
   "outputs": [],
   "source": [
    "fig, ax = plt.subplots(subplot_kw={\"projection\": \"3d\"}, figsize=(15,10))\n",
    "surf = ax.plot_surface(X, Y, F(X,Y), cmap=cm.viridis,linewidth=0, antialiased=False)\n",
    "plt.title('Función 3D + Curvas de nivel')\n",
    "plt.show()"
   ]
  },
  {
   "cell_type": "code",
   "execution_count": null,
   "id": "3149990d",
   "metadata": {
    "ExecuteTime": {
     "end_time": "2022-10-09T03:49:08.012196Z",
     "start_time": "2022-10-09T03:49:06.927607Z"
    }
   },
   "outputs": [],
   "source": [
    "plt.figure(figsize=(15,10));\n",
    "contours = plt.contour(X, Y, F(X,Y), 10)\n",
    "plt.clabel(contours, inline=True, fontsize=8)\n",
    "plt.colorbar()\n",
    "plt.plot(xk[:,0], xk[:,1],'o--k')\n",
    "plt.title('Curvas de nivel')\n",
    "plt.show()"
   ]
  },
  {
   "cell_type": "code",
   "execution_count": null,
   "id": "96adfb01",
   "metadata": {
    "ExecuteTime": {
     "end_time": "2022-10-09T03:49:08.772014Z",
     "start_time": "2022-10-09T03:49:08.017116Z"
    }
   },
   "outputs": [],
   "source": [
    "plt.figure(figsize=(15,10))\n",
    "gradx,grady = np.gradient(F(X,Y),dx)\n",
    "contours = plt.contourf(X,Y,F(X,Y), 10)\n",
    "plt.clabel(contours, inline=True, fontsize=8)\n",
    "plt.colorbar()\n",
    "plt.plot(xk[:,0], xk[:,1],'o--w')\n",
    "plt.quiver(X,Y,gradx,grady, color = 'red')\n",
    "plt.title('Curvas de nivel + Campo vectorial')\n",
    "plt.show()"
   ]
  },
  {
   "cell_type": "code",
   "execution_count": null,
   "id": "216eee91",
   "metadata": {
    "ExecuteTime": {
     "end_time": "2022-10-09T03:49:09.335095Z",
     "start_time": "2022-10-09T03:49:08.776751Z"
    }
   },
   "outputs": [],
   "source": [
    "x1 = np.linspace(min(xk[:,0]-0.5),max(xk[:,0]+0.5),30)\n",
    "x2 = np.linspace(min(xk[:,1]-0.5),max(xk[:,1]+0.5),30)\n",
    "X1,X2 = np.meshgrid(x1,x2)\n",
    "Z = F(X1,X2)\n",
    "\n",
    "plt.figure(figsize=(15,10))\n",
    "plt.title('Óptimo en: '+str(xk[-1,:])+'\\n en '+str(len(xk))+' iteraciones')\n",
    "plt.contourf(X1,X2,Z,30,cmap='jet')\n",
    "plt.colorbar()\n",
    "plt.plot(xk[:,0],xk[:,1],'o--w')\n",
    "plt.xlabel('$x_1$'); plt.ylabel('$x_2$')\n",
    "plt.show()"
   ]
  },
  {
   "cell_type": "code",
   "execution_count": null,
   "id": "fbb20089",
   "metadata": {
    "ExecuteTime": {
     "end_time": "2022-10-09T03:49:10.020893Z",
     "start_time": "2022-10-09T03:49:09.340516Z"
    }
   },
   "outputs": [],
   "source": [
    "iterations = np.arange(0,len(xk))\n",
    "       \n",
    "fig, axs = plt.subplots(2, figsize=(15,10))\n",
    "fig.suptitle('Puntos')\n",
    "axs[0].plot(iterations,xk[:,0],'o-b', label = '$x_{1_{min}} =$'+str(xk[-1,0]))\n",
    "# axs[0].plot(iterations,xk[:,0],'o-b', label = '$x_{1_{min}} =$')\n",
    "axs[0].grid('on')\n",
    "axs[0].set_ylabel('$x_{1}$')\n",
    "axs[0].legend()\n",
    "\n",
    "axs[1].plot(iterations,xk[:,1],'o-b', label = '$x_{2_{min}} =$'+str(xk[-1,1]))\n",
    "# axs[1].plot(iterations,xk[:,1],'o-b', label = '$x_{2_{min}} =$')\n",
    "axs[1].grid('on')\n",
    "axs[1].set_ylabel('$x_{2}$')\n",
    "axs[1].set_xlabel('Iteraciones')\n",
    "axs[1].legend()\n",
    "plt.show()"
   ]
  },
  {
   "cell_type": "markdown",
   "id": "e5497fb9",
   "metadata": {},
   "source": [
    "# Caso III. Función de Matyas\n",
    "La función de Matyas está definida por\n",
    "\n",
    "\\begin{equation}\n",
    " f\\left(x_{1},x_{2}\\right) = 0.26\\left(x_{1}^{2} + x_{2}^{2}\\right)- 0.48x_{1}x_{2}.\n",
    "\\end{equation}\n",
    "\n",
    "Utilice el método de Quasi-Newton para minimizar la función de Matyas considerando que el espacio de búsqueda está dado por $x_{i} \\in [-10,10] \\forall i=1,2$. Además, considere como punto inicial\n",
    "\n",
    "\\begin{equation}\n",
    " x_{0} = \\begin{bmatrix} 5 & -5 \\end{bmatrix}^{T}.\n",
    "\\end{equation}"
   ]
  },
  {
   "cell_type": "code",
   "execution_count": null,
   "id": "e732d5da",
   "metadata": {
    "ExecuteTime": {
     "end_time": "2022-10-09T03:49:10.072548Z",
     "start_time": "2022-10-09T03:49:10.027334Z"
    }
   },
   "outputs": [],
   "source": [
    "x0 = np.array([5,-5]) # Puntos iniciales\n",
    "    \n",
    "tol = 1e-2 # Tolerancia del algoritmo\n",
    "eta = 1e-2\n",
    "    \n",
    "# Función objetivo\n",
    "F = lambda x: 0.26*(x[0]**2+x[1]**2)-0.48*x[0]*x[1]\n",
    "gradF = lambda x: np.array([-(12*x[1]-13*x[0])/25,\n",
    "                                                           (13*x[1]-12*x[0])/25])\n",
    "\n",
    "Fmin, xk = gradient_descent(x0, F, gradF, eta, tol)"
   ]
  },
  {
   "cell_type": "markdown",
   "id": "6d9c3007",
   "metadata": {},
   "source": [
    "## Graficación de resultados"
   ]
  },
  {
   "cell_type": "code",
   "execution_count": null,
   "id": "fddee8f4",
   "metadata": {
    "ExecuteTime": {
     "end_time": "2022-10-09T03:49:10.109217Z",
     "start_time": "2022-10-09T03:49:10.080109Z"
    }
   },
   "outputs": [],
   "source": [
    "xmin = -10 # coordenada mínima\n",
    "xmax =  10 # coordenada máxima\n",
    "dx = 0.5 # distancia entre coordenadas consecutivas\n",
    "\n",
    "dom = np.arange(xmin,xmax,dx)\n",
    "X,Y = np.meshgrid(dom,dom)\n",
    "F = lambda x1,x2: (x1 - 2)**4 + x2**2*(x1 - 2)**2 + (x2 + 1)**2"
   ]
  },
  {
   "cell_type": "code",
   "execution_count": null,
   "id": "57dc7e7a",
   "metadata": {
    "ExecuteTime": {
     "end_time": "2022-10-09T03:49:10.836798Z",
     "start_time": "2022-10-09T03:49:10.114276Z"
    }
   },
   "outputs": [],
   "source": [
    "fig, ax = plt.subplots(subplot_kw={\"projection\": \"3d\"}, figsize=(15,10))\n",
    "surf = ax.plot_surface(X, Y, F(X,Y), cmap=cm.viridis,linewidth=0, antialiased=False)\n",
    "plt.title('Función 3D + Curvas de nivel')\n",
    "plt.show()"
   ]
  },
  {
   "cell_type": "code",
   "execution_count": null,
   "id": "ed5742a9",
   "metadata": {
    "ExecuteTime": {
     "end_time": "2022-10-09T03:49:11.738561Z",
     "start_time": "2022-10-09T03:49:10.845706Z"
    }
   },
   "outputs": [],
   "source": [
    "plt.figure(figsize=(15,10));\n",
    "contours = plt.contour(X, Y, F(X,Y), 10)\n",
    "plt.clabel(contours, inline=True, fontsize=8)\n",
    "plt.colorbar()\n",
    "plt.plot(xk[:,0], xk[:,1],'o--k')\n",
    "plt.title('Curvas de nivel')\n",
    "plt.show()"
   ]
  },
  {
   "cell_type": "code",
   "execution_count": null,
   "id": "24a7b4da",
   "metadata": {
    "ExecuteTime": {
     "end_time": "2022-10-09T03:49:12.494631Z",
     "start_time": "2022-10-09T03:49:11.743326Z"
    }
   },
   "outputs": [],
   "source": [
    "plt.figure(figsize=(15,10))\n",
    "gradx,grady = np.gradient(F(X,Y),dx)\n",
    "contours = plt.contourf(X,Y,F(X,Y), 10)\n",
    "plt.clabel(contours, inline=True, fontsize=8)\n",
    "plt.colorbar()\n",
    "plt.plot(xk[:,0], xk[:,1],'o--w')\n",
    "plt.quiver(X,Y,gradx,grady, color = 'red')\n",
    "plt.title('Curvas de nivel + Campo vectorial')\n",
    "plt.show()"
   ]
  },
  {
   "cell_type": "code",
   "execution_count": null,
   "id": "fc2ed74e",
   "metadata": {
    "ExecuteTime": {
     "end_time": "2022-10-09T03:49:13.010057Z",
     "start_time": "2022-10-09T03:49:12.498228Z"
    }
   },
   "outputs": [],
   "source": [
    "x1 = np.linspace(min(xk[:,0]-0.5),max(xk[:,0]+0.5),30)\n",
    "x2 = np.linspace(min(xk[:,1]-0.5),max(xk[:,1]+0.5),30)\n",
    "X1,X2 = np.meshgrid(x1,x2)\n",
    "Z = F(X1,X2)\n",
    "\n",
    "plt.figure(figsize=(15,10))\n",
    "plt.title('Óptimo en: '+str(xk[-1,:])+'\\n en '+str(len(xk))+' iteraciones')\n",
    "plt.contourf(X1,X2,Z,30,cmap='jet')\n",
    "plt.colorbar()\n",
    "plt.plot(xk[:,0],xk[:,1],'o--w')\n",
    "plt.xlabel('$x_1$'); plt.ylabel('$x_2$')\n",
    "plt.show()"
   ]
  },
  {
   "cell_type": "code",
   "execution_count": null,
   "id": "b05e03ae",
   "metadata": {
    "ExecuteTime": {
     "end_time": "2022-10-09T03:49:13.489854Z",
     "start_time": "2022-10-09T03:49:13.014014Z"
    }
   },
   "outputs": [],
   "source": [
    "iterations = np.arange(0,len(xk))\n",
    "       \n",
    "fig, axs = plt.subplots(2,figsize=(15,10))\n",
    "fig.suptitle('Puntos')\n",
    "axs[0].plot(iterations,xk[:,0],'o-b', label = '$x_{1_{min}} =$'+str(xk[-1,0]))\n",
    "axs[0].grid('on')\n",
    "axs[0].set_ylabel('$x_{1}$')\n",
    "axs[0].legend(fontsize=18)\n",
    "\n",
    "axs[1].plot(iterations,xk[:,1],'o-b', label = '$x_{2_{min}} =$'+str(xk[-1,1]))\n",
    "axs[1].grid('on')\n",
    "axs[1].set_ylabel('$x_{2}$')\n",
    "axs[1].set_xlabel('Iteraciones')\n",
    "axs[1].legend(fontsize=18)\n",
    "plt.show()"
   ]
  },
  {
   "cell_type": "markdown",
   "id": "883df9dc",
   "metadata": {},
   "source": [
    "# Caso IV. Función de Beale\n",
    "La función de Beale está definida por\n",
    "\n",
    "\\begin{equation}\n",
    " f\\left(x_{1},x_{2}\\right) = \\left(1.5 - x_{1} + x_{1}x_{2}\\right)^{2} + \\left(2.25 - x_{1} + x_{1}x_{2}^{2}\\right)^{2} + \\left(2.62 - x_{1} + x_{1}x_{2}^{3}\\right)^{2}.\n",
    "\\end{equation}\n",
    "\n",
    "Utilice el método de GD para minimizar la función de Beale considerando que el espacio de búsqueda está dado por $x_{i} \\in [-4.5,4.5] \\forall i=1,2$. Además, considere como punto inicial\n",
    "\n",
    "\\begin{equation}\n",
    " x_{0} = \\begin{bmatrix} -3 & 3 \\end{bmatrix}^{T}.\n",
    "\\end{equation}"
   ]
  },
  {
   "cell_type": "markdown",
   "id": "408d0b94",
   "metadata": {},
   "source": [
    "# Caso V. Función de dos variables\n",
    "\n",
    "Sea la función\n",
    "\n",
    "\\begin{equation}\n",
    "  f\\left(x_{1},x_{2}\\right) = \\left(x_{1}^2+x_{2}-11\\right)^2 + \\left(x_{1} + x_{2}^2-7\\right)^2,\n",
    "\\end{equation}\n",
    "\n",
    "encuentre los valores mínimos utilizando el algoritmo de GD."
   ]
  },
  {
   "cell_type": "code",
   "execution_count": null,
   "id": "0d8492b2",
   "metadata": {
    "ExecuteTime": {
     "end_time": "2022-10-09T03:49:13.529042Z",
     "start_time": "2022-10-09T03:49:13.494492Z"
    }
   },
   "outputs": [],
   "source": [
    "x0 = np.array([-5,5]) # Puntos iniciales\n",
    "    \n",
    "tol = 1e-2 # Tolerancia del algoritmo\n",
    "eta = 1e-3\n",
    "    \n",
    "# Función objetivo\n",
    "F = lambda x: (x[0]**2+x[1]-11)**2 + (x[0] + x[1]**2-7)**2\n",
    "gradF = lambda x: np.array([2*x[1]**2+4*x[0]*x[1]+4*x[0]**3-42*x[0]-14,\n",
    "                                                         4*x[1]**3+(4*x[0]-26)*x[1]+2*x[0]**2-22])\n",
    "\n",
    "Fmin, xk = gradient_descent(x0, F, gradF, eta, tol)"
   ]
  },
  {
   "cell_type": "markdown",
   "id": "0daa3aa2",
   "metadata": {},
   "source": [
    "## Graficación de resultados"
   ]
  },
  {
   "cell_type": "code",
   "execution_count": null,
   "id": "25b1d54a",
   "metadata": {
    "ExecuteTime": {
     "end_time": "2022-10-09T03:49:14.121495Z",
     "start_time": "2022-10-09T03:49:13.533110Z"
    }
   },
   "outputs": [],
   "source": [
    "xmin = -10 # coordenada mínima\n",
    "xmax =  10 # coordenada máxima\n",
    "dx = 0.5 # distancia entre coordenadas consecutivas\n",
    "\n",
    "dom = np.arange(xmin,xmax,dx)\n",
    "X,Y = np.meshgrid(dom,dom)\n",
    "F = lambda x1,x2: (x1**2+x2-11)**2 + (x1 + x2**2-7)**2\n",
    "\n",
    "fig, ax = plt.subplots(subplot_kw={\"projection\": \"3d\"}, figsize=(15,10))\n",
    "surf = ax.plot_surface(X, Y, F(X,Y), cmap=cm.viridis,linewidth=0, antialiased=False)\n",
    "plt.title('Función 3D + Curvas de nivel')\n",
    "plt.show()"
   ]
  },
  {
   "cell_type": "code",
   "execution_count": null,
   "id": "ccf54155",
   "metadata": {
    "ExecuteTime": {
     "end_time": "2022-10-09T03:49:15.266975Z",
     "start_time": "2022-10-09T03:49:14.127748Z"
    }
   },
   "outputs": [],
   "source": [
    "plt.figure(figsize=(15,10));\n",
    "contours = plt.contour(X, Y, F(X,Y), 15)\n",
    "plt.clabel(contours, inline=True, fontsize=8)\n",
    "plt.colorbar()\n",
    "plt.plot(xk[:,0], xk[:,1],'o--k')\n",
    "plt.title('Curvas de nivel')\n",
    "plt.show()"
   ]
  },
  {
   "cell_type": "code",
   "execution_count": null,
   "id": "3b3316cb",
   "metadata": {
    "ExecuteTime": {
     "end_time": "2022-10-09T03:49:16.318040Z",
     "start_time": "2022-10-09T03:49:15.283117Z"
    }
   },
   "outputs": [],
   "source": [
    "plt.figure(figsize=(15,10))\n",
    "gradx,grady = np.gradient(F(X,Y),dx)\n",
    "contours = plt.contourf(X,Y,F(X,Y), 15)\n",
    "plt.clabel(contours, inline=True, fontsize=8)\n",
    "plt.colorbar()\n",
    "plt.plot(xk[:,0], xk[:,1],'o--w')\n",
    "plt.quiver(X,Y,gradx,grady, color = 'red')\n",
    "plt.title('Curvas de nivel + Campo vectorial')\n",
    "plt.show()"
   ]
  },
  {
   "cell_type": "code",
   "execution_count": null,
   "id": "ff55873a",
   "metadata": {
    "ExecuteTime": {
     "end_time": "2022-10-09T03:49:17.105035Z",
     "start_time": "2022-10-09T03:49:16.324310Z"
    }
   },
   "outputs": [],
   "source": [
    "x1 = np.linspace(min(xk[:,0]-0.5),max(xk[:,0]+0.5),30)\n",
    "x2 = np.linspace(min(xk[:,1]-0.5),max(xk[:,1]+0.5),30)\n",
    "X1,X2 = np.meshgrid(x1,x2)\n",
    "Z = F(X1,X2)\n",
    "\n",
    "plt.figure(figsize=(15,10))\n",
    "plt.title('Óptimo en: '+str(xk[-1,:])+'\\n en '+str(len(xk))+' iteraciones')\n",
    "plt.contourf(X1,X2,Z,30,cmap='jet')\n",
    "plt.colorbar()\n",
    "plt.plot(xk[:,0],xk[:,1],'o--w')\n",
    "plt.xlabel('$x_1$'); plt.ylabel('$x_2$')\n",
    "plt.show()"
   ]
  },
  {
   "cell_type": "code",
   "execution_count": null,
   "id": "b539191b",
   "metadata": {
    "ExecuteTime": {
     "end_time": "2022-10-09T03:49:17.780587Z",
     "start_time": "2022-10-09T03:49:17.109617Z"
    }
   },
   "outputs": [],
   "source": [
    "iterations = np.arange(0,len(xk))\n",
    "       \n",
    "fig, axs = plt.subplots(2,figsize=(15,10))\n",
    "fig.suptitle('Puntos')\n",
    "axs[0].plot(iterations,xk[:,0],'o-b', label = '$x_{1_{min}} =$'+str(xk[-1,0]))\n",
    "axs[0].grid('on')\n",
    "axs[0].set_ylabel('$x_{1}$')\n",
    "axs[0].legend(fontsize=18)\n",
    "\n",
    "axs[1].plot(iterations,xk[:,1],'o-b', label = '$x_{2_{min}} =$'+str(xk[-1,1]))\n",
    "axs[1].grid('on')\n",
    "axs[1].set_ylabel('$x_{2}$')\n",
    "axs[1].set_xlabel('Iteraciones')\n",
    "axs[1].legend(fontsize=18)\n",
    "plt.show()"
   ]
  },
  {
   "cell_type": "markdown",
   "id": "2949cb99",
   "metadata": {},
   "source": [
    "# Referencias\n",
    "[1] [6.12].\n",
    "\n",
    "[2] Ernesto, R. W., Ernesto, L. G., Rafael, B., & Yolanda, G. G. (2016). Perfiles de comportamiento numérico de los métodos de búsqueda immune network algorithm y bacterial foraging optimization algorithm en funciones benchmark. *Ingeniería, investigación y tecnología*, 17(4), 479-490.\n",
    "\n"
   ]
  }
 ],
 "metadata": {
  "hide_input": false,
  "kernelspec": {
   "display_name": "Python 3 (ipykernel)",
   "language": "python",
   "name": "python3"
  },
  "language_info": {
   "codemirror_mode": {
    "name": "ipython",
    "version": 3
   },
   "file_extension": ".py",
   "mimetype": "text/x-python",
   "name": "python",
   "nbconvert_exporter": "python",
   "pygments_lexer": "ipython3",
   "version": "3.9.12"
  },
  "latex_envs": {
   "LaTeX_envs_menu_present": true,
   "autoclose": false,
   "autocomplete": true,
   "bibliofile": "biblio.bib",
   "cite_by": "apalike",
   "current_citInitial": 1,
   "eqLabelWithNumbers": true,
   "eqNumInitial": 1,
   "hotkeys": {
    "equation": "Ctrl-E",
    "itemize": "Ctrl-I"
   },
   "labels_anchors": false,
   "latex_user_defs": false,
   "report_style_numbering": false,
   "user_envs_cfg": false
  },
  "toc": {
   "base_numbering": 1,
   "nav_menu": {},
   "number_sections": true,
   "sideBar": true,
   "skip_h1_title": false,
   "title_cell": "Table of Contents",
   "title_sidebar": "Contents",
   "toc_cell": false,
   "toc_position": {},
   "toc_section_display": true,
   "toc_window_display": false
  },
  "varInspector": {
   "cols": {
    "lenName": 16,
    "lenType": 16,
    "lenVar": 40
   },
   "kernels_config": {
    "python": {
     "delete_cmd_postfix": "",
     "delete_cmd_prefix": "del ",
     "library": "var_list.py",
     "varRefreshCmd": "print(var_dic_list())"
    },
    "r": {
     "delete_cmd_postfix": ") ",
     "delete_cmd_prefix": "rm(",
     "library": "var_list.r",
     "varRefreshCmd": "cat(var_dic_list()) "
    }
   },
   "types_to_exclude": [
    "module",
    "function",
    "builtin_function_or_method",
    "instance",
    "_Feature"
   ],
   "window_display": false
  }
 },
 "nbformat": 4,
 "nbformat_minor": 5
}
